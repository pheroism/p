{
 "cells": [
  {
   "cell_type": "markdown",
   "id": "72fc032c",
   "metadata": {},
   "source": [
    "# CE93 Project 1 — Exploratory Data Analysis\n",
    "**Dataset used:** `CE93_07_AirQuality_WaterPollution.csv` (provided)\n",
    "**Number of measurements (rows):** 3538\n",
    "\n",
    "**Columns and data types:**\n",
    "\n",
    "| Column | Data type |\n",
    "|---|---|\n",
    "| City | object |\n",
    "| Air Quality | float64 |\n",
    "| Water Pollution | float64 |\n",
    "\n",
    "---\n",
    "\n",
    "**Notes:**\n",
    "- The notebook below is pre-populated with analysis code that you can run directly.\n",
    "- Replace or expand the markdown discussion sections with your own interpretation for the final submission.\n"
   ]
  },
  {
   "cell_type": "code",
   "execution_count": null,
   "id": "19f91d24",
   "metadata": {},
   "outputs": [],
   "source": [
    "# Imports and plotting configuration\n",
    "import pandas as pd\n",
    "import numpy as np\n",
    "import matplotlib.pyplot as plt\n",
    "import seaborn as sns\n",
    "from scipy import stats\n",
    "\n",
    "%matplotlib inline\n",
    "sns.set(style=\"whitegrid\", font_scale=1.05)\n",
    "plt.rcParams['figure.figsize'] = (8,5)\n"
   ]
  },
  {
   "cell_type": "code",
   "execution_count": null,
   "id": "0f16e03a",
   "metadata": {},
   "outputs": [],
   "source": [
    "# Load dataset\n",
    "DATA_PATH = \"/mnt/data/CE93_07_AirQuality_WaterPollution.csv\"\n",
    "df = pd.read_csv(DATA_PATH)\n",
    "print(\"Loaded file:\", DATA_PATH)\n",
    "print(f\"Number of rows: 3538\")\n",
    "df.head()"
   ]
  },
  {
   "cell_type": "code",
   "execution_count": null,
   "id": "33297b31",
   "metadata": {},
   "outputs": [],
   "source": [
    "# Quick overview: dtypes, missing values, numeric columns\n",
    "display(df.dtypes)\n",
    "print(\"\\nMissing values per column:\")\n",
    "print(df.isna().sum())\n",
    "print(\"\\nNumeric columns detected:\", df.select_dtypes(include=['number']).columns.tolist())"
   ]
  },
  {
   "cell_type": "code",
   "execution_count": null,
   "id": "f411d821",
   "metadata": {},
   "outputs": [],
   "source": [
    "# Summary statistics for numeric variables\n",
    "num_cols = df.select_dtypes(include=['number']).columns.tolist()\n",
    "summary = df[num_cols].describe().T\n",
    "# Add IQR and Coefficient of Variation\n",
    "summary['IQR'] = df[num_cols].quantile(0.75) - df[num_cols].quantile(0.25)\n",
    "summary['CV'] = summary['std'] / summary['mean']\n",
    "summary = summary[['count','mean','50%','std','IQR','CV']].rename(columns={'50%':'median'})\n",
    "pd.options.display.float_format = '{:.3f}'.format\n",
    "display(summary)"
   ]
  },
  {
   "cell_type": "code",
   "execution_count": null,
   "id": "cd0f4e79",
   "metadata": {},
   "outputs": [],
   "source": [
    "# Example: create a new variable from an existing numeric column\n",
    "# We'll create a normalized version of `Air Quality` (z-score) and a min-max scaled version.\n",
    "df['Air Quality_zscore'] = (df['Air Quality'] - df['Air Quality'].mean()) / df['Air Quality'].std()\n",
    "df['Air Quality_minmax'] = (df['Air Quality'] - df['Air Quality'].min()) / (df['Air Quality'].max() - df['Air Quality'].min())\n",
    "\n",
    "print(df[[ 'Air Quality', 'Air Quality_zscore', 'Air Quality_minmax']].head())\n",
    "\n",
    "# Numerical summaries for the new variable (z-score)\n",
    "z_mean = df['Air Quality_zscore'].mean()\n",
    "z_std = df['Air Quality_zscore'].std()\n",
    "print(f\"Mean of z-score: {z_mean:.3f} (should be ~0), Std: {z_std:.3f} (should be ~1)\")"
   ]
  },
  {
   "cell_type": "code",
   "execution_count": null,
   "id": "1aee559c",
   "metadata": {},
   "outputs": [],
   "source": [
    "# Visualizations for `Air Quality` (three univariate plots)\n",
    "# 1) Histogram (change bins and alpha)\n",
    "plt.figure(figsize=(8,4))\n",
    "plt.hist(df['Air Quality'].dropna(), bins=20, edgecolor='k', alpha=0.7)\n",
    "plt.title('Histogram of Air Quality')\n",
    "plt.xlabel('Air Quality')\n",
    "plt.ylabel('Frequency')\n",
    "plt.grid(True)\n",
    "plt.show()\n",
    "\n",
    "# 2) Boxplot (change orientation and showfliers)\n",
    "plt.figure(figsize=(6,3))\n",
    "sns.boxplot(x=df['Air Quality'], orient='h', showfliers=True)\n",
    "plt.title('Boxplot of Air Quality')\n",
    "plt.xlabel('Air Quality')\n",
    "plt.show()\n",
    "\n",
    "# 3) Kernel Density Estimate (KDE) with rug\n",
    "plt.figure(figsize=(8,4))\n",
    "sns.kdeplot(df['Air Quality'].dropna(), bw_adjust=1, fill=True)\n",
    "sns.rugplot(df['Air Quality'].dropna(), height=0.05)\n",
    "plt.title('KDE of Air Quality')\n",
    "plt.xlabel('Air Quality')\n",
    "plt.show()"
   ]
  },
  {
   "cell_type": "code",
   "execution_count": null,
   "id": "3c22026c",
   "metadata": {},
   "outputs": [],
   "source": [
    "# Scatter plot between `Air Quality` (x) and `Water Pollution` (y)\n",
    "plt.figure(figsize=(7,5))\n",
    "plt.scatter(df['Air Quality'], df['Water Pollution'], s=40, alpha=0.7, marker='o', edgecolor='k')\n",
    "plt.title('Water Pollution vs Air Quality')\n",
    "plt.xlabel('Air Quality')\n",
    "plt.ylabel('Water Pollution')\n",
    "plt.grid(True)\n",
    "plt.show()\n",
    "\n",
    "# Compute and print Pearson and Spearman correlation\n",
    "pearson_r, pearson_p = stats.pearsonr(df['Air Quality'].dropna(), df['Water Pollution'].dropna())\n",
    "spearman_r, spearman_p = stats.spearmanr(df['Air Quality'].dropna(), df['Water Pollution'].dropna())\n",
    "print(f\"Pearson r = {pearson_r:.3f}, p-value = {pearson_p:.3g}\")\n",
    "print(f\"Spearman rho = {spearman_r:.3f}, p-value = {spearman_p:.3g}\")"
   ]
  },
  {
   "cell_type": "markdown",
   "id": "301844ba",
   "metadata": {},
   "source": [
    "---\n",
    "## 4. Dependence / Independence Analysis (instructions)\n",
    "The code above computes Pearson and Spearman correlations between two numeric variables. In your report, discuss:\n",
    "\n",
    "- The strength and direction (positive/negative) of the association.\n",
    "- Whether the relationship appears linear or monotonic.\n",
    "- Potential confounding variables or data collection issues that could affect the association.\n",
    "\n",
    "Add additional statistical tests or visual diagnostics (e.g., scatter with regression line, residuals) if desired.\n"
   ]
  },
  {
   "cell_type": "markdown",
   "id": "57733347",
   "metadata": {},
   "source": [
    "---\n",
    "## 5. Presentation & Submission\n",
    "\n",
    "**To prepare final submission:**\n",
    "- Run `Kernel -> Restart & Run All` to ensure outputs are generated.\n",
    "- Export the notebook to PDF: `File -> Save and Export Notebook As... -> Webpdf` (or use your notebook server export).\n",
    "- Submit both the `.ipynb` file and the exported `.pdf` file according to the project instructions.\n",
    "\n",
    "**Notes:** Replace analysis paragraphs with your own interpretation and ensure all outputs are visible in the exported PDF.\n"
   ]
  }
 ],
 "metadata": {},
 "nbformat": 4,
 "nbformat_minor": 5
}
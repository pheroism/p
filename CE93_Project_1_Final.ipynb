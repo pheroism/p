{
 "cells": [
  {
   "cell_type": "markdown",
   "id": "411f0bc0",
   "metadata": {},
   "source": [
    "# CE93 Project 1 — Exploratory Data Analysis (Final Report)\n",
    "**Course:** CE93 Engineering Data Analysis  \n",
    "**Dataset used:** `CE93_07_AirQuality_WaterPollution.csv` (provided — CE93_07)  \n",
    "**Group members:** [Member 1, Member 2, Member 3]\n",
    "\n",
    "---\n",
    "\n",
    "### Quick dataset summary\n",
    "- Number of measurements (rows): **3538**  \n",
    "- Columns: ['City', 'Air Quality', 'Water Pollution']\n",
    "\n",
    "This notebook is structured to satisfy **every bullet point** in the project rubric. Run all cells (`Kernel -> Restart & Run All`) before exporting to PDF for submission.\n"
   ]
  },
  {
   "cell_type": "code",
   "execution_count": null,
   "id": "7194dca0",
   "metadata": {},
   "outputs": [],
   "source": [
    "# Imports and plotting configuration\n",
    "import pandas as pd\n",
    "import numpy as np\n",
    "import matplotlib.pyplot as plt\n",
    "import seaborn as sns\n",
    "from scipy import stats\n",
    "\n",
    "%matplotlib inline\n",
    "sns.set(style=\"whitegrid\", font_scale=1.05)\n",
    "plt.rcParams['figure.figsize'] = (8,5)\n",
    "pd.options.display.float_format = '{:.3f}'.format\n"
   ]
  },
  {
   "cell_type": "code",
   "execution_count": null,
   "id": "ca1a2052",
   "metadata": {},
   "outputs": [],
   "source": [
    "# 1. Introduction: Load data, show a few rows, and output number of measurements\n",
    "DATA_PATH = \"/mnt/data/CE93_07_AirQuality_WaterPollution.csv\"\n",
    "df = pd.read_csv(DATA_PATH)\n",
    "print(\"Dataset path:\", DATA_PATH)\n",
    "print(\"Number of rows (measurements):\", len(df))\n",
    "print(\"\\nA preview of the data:\")\n",
    "df.head(8)"
   ]
  },
  {
   "cell_type": "markdown",
   "id": "729676b0",
   "metadata": {},
   "source": [
    "**Dataset origin:** This is one of the CE93-provided datasets (CE93_07). We did not collect these data ourselves.\n"
   ]
  },
  {
   "cell_type": "markdown",
   "id": "95ed3d3b",
   "metadata": {},
   "source": [
    "---\n",
    "## 2. Summary Statistics\n",
    "\n",
    "For each of the two numeric variables (`Air Quality` and `Water Pollution`) compute:\n",
    "- Two measures of central tendency (mean and median)\n",
    "- Three measures of variability (standard deviation, IQR, coefficient of variation)\n",
    "\n",
    "All numeric outputs are rounded to three decimal places as required.\n"
   ]
  },
  {
   "cell_type": "code",
   "execution_count": null,
   "id": "dff0d5a4",
   "metadata": {},
   "outputs": [],
   "source": [
    "\n",
    "# Compute measures for the numeric variables\n",
    "num_cols = ['Air Quality', 'Water Pollution']\n",
    "results = {}\n",
    "for v in num_cols:\n",
    "    series = df[v].dropna()\n",
    "    mean = series.mean()\n",
    "    median = series.median()\n",
    "    std = series.std(ddof=1)\n",
    "    iqr = series.quantile(0.75) - series.quantile(0.25)\n",
    "    cv = std / mean if mean != 0 else np.nan\n",
    "    results[v] = dict(mean=mean, median=median, std=std, iqr=iqr, cv=cv, count=len(series))\n",
    "\n",
    "# Print results with required formatting\n",
    "for v, r in results.items():\n",
    "    print(\"Variable:\", v)\n",
    "    print(f\"  Count = {r['count']}\")\n",
    "    print(f\"  Mean = {r['mean']:.3f}\")\n",
    "    print(f\"  Median = {r['median']:.3f}\")\n",
    "    print(f\"  Standard deviation = {r['std']:.3f}\")\n",
    "    print(f\"  IQR = {r['iqr']:.3f}\")\n",
    "    print(f\"  Coefficient of Variation = {r['cv']:.3f}\\n\")\n"
   ]
  },
  {
   "cell_type": "markdown",
   "id": "433e3e03",
   "metadata": {},
   "source": [
    "### Discussion of numerical summaries (placeholder)\n",
    "**Interpretation guidance (replace with your text):**\n",
    "- Describe skewness, presence of outliers, relative variability between variables.\n",
    "- For each dataset, state which measure of central tendency is most appropriate (mean vs median) and why.\n",
    "- For variability, comment on whether standard deviation, IQR, or CV is most informative given units and distribution.\n"
   ]
  },
  {
   "cell_type": "markdown",
   "id": "1ca9754e",
   "metadata": {},
   "source": [
    "### Creating a new variable\n",
    "We define a new index **Air-Water Index (AWI)** to combine Air Quality (AQ) and Water Pollution (WP).\n",
    "\n",
    "Equation (weighted average): \n",
    "$$ AWI = 0.6 \\times AQ + 0.4 \\times WP $$\n",
    "\n",
    "Equation (ratio): \n",
    "$$ AWI_{ratio} = \\frac{AQ}{WP + 1} $$\n",
    "\n",
    "We will compute both versions (weighted and ratio) and report their summaries.\n"
   ]
  },
  {
   "cell_type": "code",
   "execution_count": null,
   "id": "f8c05da1",
   "metadata": {},
   "outputs": [],
   "source": [
    "\n",
    "# Create new variables according to the equations above\n",
    "df['AWI_weighted'] = 0.6 * df['Air Quality'] + 0.4 * df['Water Pollution']\n",
    "df['AWI_ratio'] = df['Air Quality'] / (df['Water Pollution'] + 1)  # +1 to avoid division by zero\n",
    "\n",
    "# Compute central tendency and variability for AWI_weighted (as required)\n",
    "awi = df['AWI_weighted'].dropna()\n",
    "awi_mean = awi.mean()\n",
    "awi_median = awi.median()\n",
    "awi_std = awi.std(ddof=1)\n",
    "awi_iqr = awi.quantile(0.75) - awi.quantile(0.25)\n",
    "awi_cv = awi_std / awi_mean if awi_mean != 0 else np.nan\n",
    "\n",
    "print(f\"AWI_weighted (count = {len(awi)})\") \n",
    "print(f\"  Mean = {awi_mean:.3f}\")\n",
    "print(f\"  Median = {awi_median:.3f}\")\n",
    "print(f\"  Std = {awi_std:.3f}\")\n",
    "print(f\"  IQR = {awi_iqr:.3f}\")\n",
    "print(f\"  CV = {awi_cv:.3f}\")\n"
   ]
  },
  {
   "cell_type": "markdown",
   "id": "1773ce6d",
   "metadata": {},
   "source": [
    "**Can the numerical summaries for AWI be obtained by converting the summaries of AQ and WP?**\n",
    "\n",
    "In general, **no** — because mean of a linear combination can be derived from means (i.e., $E[aX+bY]=aE[X]+bE[Y]$), so the **mean** of AWI_weighted *can* be obtained from the means of AQ and WP. However, variability measures like standard deviation, IQR, and CV for a combination **cannot** be obtained from the separate summaries without information about covariance and distribution shape. Explain this in your report.\n"
   ]
  },
  {
   "cell_type": "markdown",
   "id": "1122b940",
   "metadata": {},
   "source": [
    "---\n",
    "## 3. Visualizations\n",
    "\n",
    "We will create **three different univariate plots** for the `Air Quality` variable (histogram, boxplot, KDE) and ensure each plot:\n",
    "- Is univariate (single variable)\n",
    "- Has title, axis labels, and units where applicable\n",
    "- Changes at least two default plotting parameters per plot\n",
    "Include a supporting paragraph for each plot describing the data characteristics.\n"
   ]
  },
  {
   "cell_type": "code",
   "execution_count": null,
   "id": "04770454",
   "metadata": {},
   "outputs": [],
   "source": [
    "\n",
    "# Univariate plots for Air Quality (column name: 'Air Quality')\n",
    "col = 'Air Quality'\n",
    "series = df[col].dropna()\n",
    "\n",
    "# 1) Histogram: change bins and alpha, edgecolor and density\n",
    "plt.figure(figsize=(9,4))\n",
    "plt.hist(series, bins=25, edgecolor='black', alpha=0.75, density=False)\n",
    "plt.title('Histogram of Air Quality')\n",
    "plt.xlabel('Air Quality (index units)')\n",
    "plt.ylabel('Frequency (count)')\n",
    "plt.grid(axis='y', linestyle='--', alpha=0.6)\n",
    "plt.show()\n",
    "\n",
    "# Supporting stats printed for reference\n",
    "print('Count =', len(series))\n",
    "print('Mean =', round(series.mean(),3))\n",
    "print('Median =', round(series.median(),3))\n",
    "print('Std =', round(series.std(ddof=1),3))\n",
    "\n",
    "# 2) Boxplot: change orientation and showfliers, notch\n",
    "plt.figure(figsize=(8,2.5))\n",
    "sns.boxplot(x=series, orient='h', showfliers=True, notch=True)\n",
    "plt.title('Boxplot of Air Quality (notched)')\n",
    "plt.xlabel('Air Quality (index units)')\n",
    "plt.show()\n",
    "\n",
    "# 3) KDE: adjust bandwidth and fill, add rug\n",
    "plt.figure(figsize=(9,4))\n",
    "sns.kdeplot(series, bw_adjust=0.8, fill=True, common_norm=False)\n",
    "sns.rugplot(series, height=0.05)\n",
    "plt.title('Kernel Density Estimate of Air Quality (bw_adjust=0.8)')\n",
    "plt.xlabel('Air Quality (index units)')\n",
    "plt.ylabel('Density')\n",
    "plt.show()\n"
   ]
  },
  {
   "cell_type": "markdown",
   "id": "a28138c7",
   "metadata": {},
   "source": [
    "**Plot interpretations (fill in with your observations):**\n",
    "\n",
    "- *Histogram:* Describe modality, skewness, gaps, and common value ranges.\n",
    "- *Boxplot:* Note median location, IQR, and outliers.\n",
    "- *KDE:* Discuss smoothness, peaks, and multimodality if present.\n"
   ]
  },
  {
   "cell_type": "markdown",
   "id": "e27a768b",
   "metadata": {},
   "source": [
    "### Scatter plot and relationship between Air Quality and Water Pollution\n",
    "Create a scatter plot and compute two measures of dependence: **Pearson correlation** and **Spearman rank correlation**.\n",
    "Discuss what the values mean and potential factors affecting the relationship.\n"
   ]
  },
  {
   "cell_type": "code",
   "execution_count": null,
   "id": "6751dbec",
   "metadata": {},
   "outputs": [],
   "source": [
    "\n",
    "# Scatter plot between Air Quality and Water Pollution\n",
    "x = 'Air Quality'\n",
    "y = 'Water Pollution'\n",
    "\n",
    "plt.figure(figsize=(7,5))\n",
    "plt.scatter(df[x], df[y], s=50, alpha=0.6, marker='D', edgecolor='black')\n",
    "plt.title('Scatter: Water Pollution vs Air Quality')\n",
    "plt.xlabel('Air Quality (index units)')\n",
    "plt.ylabel('Water Pollution (index units)')\n",
    "plt.grid(True, linestyle=':', alpha=0.6)\n",
    "plt.show()\n",
    "\n",
    "# Compute Pearson and Spearman correlations (drop NA pairwise)\n",
    "pair_df = df[[x,y]].dropna()\n",
    "pearson_r, pearson_p = stats.pearsonr(pair_df[x], pair_df[y])\n",
    "spearman_r, spearman_p = stats.spearmanr(pair_df[x], pair_df[y])\n",
    "\n",
    "print(f\"Pearson correlation: r = {pearson_r:.3f}, p-value = {pearson_p:.3g}\")\n",
    "print(f\"Spearman correlation: rho = {spearman_r:.3f}, p-value = {spearman_p:.3g}\")\n"
   ]
  },
  {
   "cell_type": "markdown",
   "id": "a344e25e",
   "metadata": {},
   "source": [
    "**Discussion (fill in):**\n",
    "- Interpret strength and direction of correlation values.\n",
    "- Do the correlations make sense given the scatter plot?\n",
    "- Suggest real-world reasons why Air Quality and Water Pollution could be associated or independent.\n"
   ]
  },
  {
   "cell_type": "markdown",
   "id": "6f741240",
   "metadata": {},
   "source": [
    "---\n",
    "## 4. Dependence / Independence\n",
    "\n",
    "We compute two measures of dependence (Pearson and Spearman as above). Additionally, present a short discussion on possible confounders and data collection issues that could influence the observed relationship.\n",
    "\n",
    "Replace the placeholder text below with your analysis.\n"
   ]
  },
  {
   "cell_type": "markdown",
   "id": "d1c2d60a",
   "metadata": {},
   "source": [
    "**Potential factors influencing dependence/independence (examples you can adapt):**\n",
    "\n",
    "- Geographic clustering: cities in the same region may have similar pollution profiles.\n",
    "- Industrial activity: regions with heavy industry likely higher in both air and water pollution.\n",
    "- Measurement methods and time differences: if measurements taken in different years or with different protocols, apparent association may be biased.\n",
    "- Socioeconomic factors: wealthier cities may have lower pollution levels.\n"
   ]
  },
  {
   "cell_type": "markdown",
   "id": "cac45421",
   "metadata": {},
   "source": [
    "---\n",
    "## 5. Presentation Checklist\n",
    "\n",
    "- Ensure all code cells have preceding Markdown explaining purpose.\n",
    "- All required outputs are printed and rounded to three decimals.\n",
    "- All plots have titles, axis labels, units, and changed plotting parameters.\n",
    "- Export the notebook to PDF (Webpdf) and confirm visuals are legible in the PDF.\n"
   ]
  },
  {
   "cell_type": "markdown",
   "id": "945e4d7e",
   "metadata": {},
   "source": [
    "---\n",
    "## 6. Group Work Assessment Survey\n",
    "\n",
    "Each team member must complete the peer-evaluation survey provided by the instructor. Ensure every member submits it separately.\n"
   ]
  }
 ],
 "metadata": {},
 "nbformat": 4,
 "nbformat_minor": 5
}